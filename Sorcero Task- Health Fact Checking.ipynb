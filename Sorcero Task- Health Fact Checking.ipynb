{
 "cells": [
  {
   "cell_type": "markdown",
   "metadata": {},
   "source": [
    "# Fact checking Healthcare Claims"
   ]
  },
  {
   "cell_type": "markdown",
   "metadata": {},
   "source": [
    "# Introduction"
   ]
  },
  {
   "cell_type": "markdown",
   "metadata": {},
   "source": [
    "Fact-checking is the task of verifying the veracity of claims by assessing their assertions\n",
    "against credible evidence. \n",
    "\n",
    "Generally in the past, fact checking was moslty limited to political claims and barely any research happened in any other field. \n",
    "\n",
    "This notebook aims to create a baseline standard for fact-checking in the scientific field. \n",
    "As of this moment, there already exist commendable frameworks for creating a fact-checking framework, and the same will be employed within this notebook using Pytorch. \n",
    "\n",
    "Resources considered: \n",
    "- [Bert for evidence Retrieval and Claim Verification](https://www.ncbi.nlm.nih.gov/pmc/articles/PMC7148011/)\n",
    "- [Language models as fact-checkers](https://research.fb.com/wp-content/uploads/2020/07/Language-Models-as-Fact-Checkers.pdf)\n",
    "- [SciBert](https://github.com/allenai/scibert)\n",
    "- [Explainable Automated Fact Checking for Public Health Claims](https://arxiv.org/pdf/2010.09926.pdf)\n",
    "\n"
   ]
  },
  {
   "cell_type": "markdown",
   "metadata": {},
   "source": [
    "## The Business Scenario"
   ]
  },
  {
   "cell_type": "markdown",
   "metadata": {},
   "source": [
    "**Sorcero** has been focusing on creating language intelligence technologies to make advancements in the scientific field. This has helped them to create models and attain progress in the specific field. \n",
    "\n",
    "This entire notebook creates a demo model which showcases how a model can be used on the Health fact checking dataset. This can help out the industries that have been using Sorcero's tools to speed up the process. \n",
    "\n",
    "Keeping that in mind, I have gone forward to create a notebook which keeps that particular need in mind with each line of code. "
   ]
  },
  {
   "cell_type": "markdown",
   "metadata": {},
   "source": [
    "# Importing Libraries and Data"
   ]
  },
  {
   "cell_type": "code",
   "execution_count": 1,
   "metadata": {},
   "outputs": [],
   "source": [
    "#Basic libraries:\n",
    "import numpy as np\n",
    "from tqdm.notebook import tqdm\n",
    "\n",
    "\n",
    "#Data Loading library: \n",
    "import datasets\n",
    "\n",
    "#Visualization\n",
    "from visualization_functions import *\n",
    "import seaborn as sns\n",
    "import matplotlib.pyplot as plt\n",
    "plt.style.use('ggplot')\n",
    "%matplotlib inline\n",
    "import matplotlib.colors as mcolors\n",
    "import plotly.express as px\n",
    "alt.renderers.enable('default')\n",
    "#Data Processing\n",
    "from process_data import *\n",
    "import random\n",
    "import os\n",
    "import math, time\n",
    "import gc\n",
    "gc.enable()\n",
    "\n",
    "\n",
    "#metrics\n",
    "from sklearn.metrics import classification_report, accuracy_score, f1_score\n",
    "\n",
    "\n",
    "#suppress warnings; Done while refactoring notebook. \n",
    "import warnings\n",
    "warnings.filterwarnings('ignore')\n",
    "\n",
    "\n",
    "#model-utils\n",
    "from model_utils import *\n",
    "\n",
    "\n",
    "tqdm.pandas()"
   ]
  },
  {
   "cell_type": "code",
   "execution_count": 2,
   "metadata": {
    "scrolled": true
   },
   "outputs": [
    {
     "name": "stderr",
     "output_type": "stream",
     "text": [
      "Using custom data configuration default\n",
      "Reusing dataset health_fact (/home/shivam/.cache/huggingface/datasets/health_fact/default/1.1.0/99503637e4255bd805f84d57031c18fe4dd88298f00299d56c94fc59ed68ec19)\n"
     ]
    }
   ],
   "source": [
    "# Loading data\n",
    "loaded_data = datasets.load_dataset('health_fact')\n",
    "train_df, test_df, val_df = create_dataframe(loaded_data)"
   ]
  },
  {
   "cell_type": "markdown",
   "metadata": {},
   "source": [
    "## Overview of Data"
   ]
  },
  {
   "cell_type": "code",
   "execution_count": 3,
   "metadata": {},
   "outputs": [
    {
     "data": {
      "text/html": [
       "<div>\n",
       "<style scoped>\n",
       "    .dataframe tbody tr th:only-of-type {\n",
       "        vertical-align: middle;\n",
       "    }\n",
       "\n",
       "    .dataframe tbody tr th {\n",
       "        vertical-align: top;\n",
       "    }\n",
       "\n",
       "    .dataframe thead th {\n",
       "        text-align: right;\n",
       "    }\n",
       "</style>\n",
       "<table border=\"1\" class=\"dataframe\">\n",
       "  <thead>\n",
       "    <tr style=\"text-align: right;\">\n",
       "      <th></th>\n",
       "      <th>claim_id</th>\n",
       "      <th>claim</th>\n",
       "      <th>date_published</th>\n",
       "      <th>explanation</th>\n",
       "      <th>fact_checkers</th>\n",
       "      <th>main_text</th>\n",
       "      <th>sources</th>\n",
       "      <th>label</th>\n",
       "      <th>subjects</th>\n",
       "    </tr>\n",
       "  </thead>\n",
       "  <tbody>\n",
       "    <tr>\n",
       "      <th>0</th>\n",
       "      <td>15661</td>\n",
       "      <td>\"The money the Clinton Foundation took from fr...</td>\n",
       "      <td>April 26, 2015</td>\n",
       "      <td>\"Gingrich said the Clinton Foundation \"\"took m...</td>\n",
       "      <td>Katie Sanders</td>\n",
       "      <td>\"Hillary Clinton is in the political crosshair...</td>\n",
       "      <td>https://www.wsj.com/articles/clinton-foundatio...</td>\n",
       "      <td>0</td>\n",
       "      <td>Foreign Policy, PunditFact, Newt Gingrich,</td>\n",
       "    </tr>\n",
       "  </tbody>\n",
       "</table>\n",
       "</div>"
      ],
      "text/plain": [
       "  claim_id                                              claim  date_published  \\\n",
       "0    15661  \"The money the Clinton Foundation took from fr...  April 26, 2015   \n",
       "\n",
       "                                         explanation  fact_checkers  \\\n",
       "0  \"Gingrich said the Clinton Foundation \"\"took m...  Katie Sanders   \n",
       "\n",
       "                                           main_text  \\\n",
       "0  \"Hillary Clinton is in the political crosshair...   \n",
       "\n",
       "                                             sources  label  \\\n",
       "0  https://www.wsj.com/articles/clinton-foundatio...      0   \n",
       "\n",
       "                                      subjects  \n",
       "0  Foreign Policy, PunditFact, Newt Gingrich,   "
      ]
     },
     "execution_count": 3,
     "metadata": {},
     "output_type": "execute_result"
    }
   ],
   "source": [
    "train_df.head(1)"
   ]
  },
  {
   "cell_type": "markdown",
   "metadata": {},
   "source": [
    "### Understanding what the columns mean\n",
    "\n",
    "- This was performed after viewing the data in the huggingface data viewer and going through the github page of the data. \n",
    "\n",
    "**Columns**\n",
    "\n",
    "- **claim_id**: The ID of that particular claim. \n",
    "- **claim**: The claim that is being made. This will be verified against the main_text to figure out whether it is true or unfounded. \n",
    "- **date_published**: The date when the article was published. \n",
    "- **explanation**: The justification for why a claim has been tagged as the way it is. \n",
    "- **fact_checkers**: The people who have performed the fact_checking. \n",
    "- **main_text**: The main_text, cleaned and preprocessed from all the article texts. \n",
    "- **sources**: The source from where the article was sourced. \n",
    "- **label**: The label ranging from -1 to 3, with each having it's particular value. This is what we are going to classify. (More on this later on in this notebook)\n",
    "- **subjects**: The basic subject of the paritcular claim. "
   ]
  },
  {
   "cell_type": "markdown",
   "metadata": {},
   "source": [
    "I have always been taught that EDA is the art of asking questions to the dataset and figuring out information from it. So, let's get down to it. "
   ]
  },
  {
   "cell_type": "markdown",
   "metadata": {},
   "source": [
    "#### What are the different types of labels present in the dataset? "
   ]
  },
  {
   "cell_type": "code",
   "execution_count": 4,
   "metadata": {
    "scrolled": false
   },
   "outputs": [],
   "source": [
    "train_df = eda_preprocess_dataframe(train_df)\n",
    "test_df = eda_preprocess_dataframe(test_df)\n",
    "val_df = eda_preprocess_dataframe(val_df)"
   ]
  },
  {
   "cell_type": "code",
   "execution_count": 5,
   "metadata": {},
   "outputs": [],
   "source": [
    "# Dropping null values (aka, labels which were -1)\n",
    "\n",
    "train_df = train_df[train_df['labels_text'].notna()].reset_index()\n",
    "test_df = test_df[test_df['labels_text'].notna()].reset_index()\n",
    "val_df = val_df[val_df['labels_text'].notna()].reset_index()"
   ]
  },
  {
   "cell_type": "code",
   "execution_count": 6,
   "metadata": {
    "scrolled": false
   },
   "outputs": [
    {
     "data": {
      "image/png": "[encoded data removed]",
      "text/plain": [
       "<Figure size 1440x1080 with 1 Axes>"
      ]
     },
     "metadata": {
      "needs_background": "light"
     },
     "output_type": "display_data"
    }
   ],
   "source": [
    "sns.set_context('poster')\n",
    "plt.figure(figsize=(20,15))\n",
    "ax = sns.countplot(x='labels_text', data=train_df,  palette='rocket')\n",
    "#Naming\n",
    "plt.title(\"Number of Labels in the Dataset\")\n",
    "plt.xlabel(\"Types of Labels\")\n",
    "plt.ylabel(\"Count in dataset\")\n",
    "for i in ax.patches:\n",
    "    ax.text(i.get_x()+.31, i.get_height()+10, str(round(i.get_height())), fontsize = 15, color = 'k')\n",
    "\n"
   ]
  },
  {
   "cell_type": "markdown",
   "metadata": {},
   "source": [
    "Here we can observe: \n",
    "- There is a class imblance, that will be taken into account while building out the model during the loss function\n",
    "\n",
    "To calculate the class weights:"
   ]
  },
  {
   "cell_type": "code",
   "execution_count": 7,
   "metadata": {},
   "outputs": [],
   "source": [
    "class_weights = get_class_weight(train_df['label'])"
   ]
  },
  {
   "cell_type": "markdown",
   "metadata": {},
   "source": [
    "#### What are the most prevelant subjects amongst all the entries? "
   ]
  },
  {
   "cell_type": "code",
   "execution_count": 8,
   "metadata": {},
   "outputs": [
    {
     "data": {
      "text/html": [
       "\n",
       "    <div id=\"vega-chart\"></div><script>\n",
       "    require([\"vega-embed\"], function(vg_embed) {\n",
       "        const spec = {\"$schema\": \"https://vega.github.io/schema/vega/v5.json\", \"width\": 900, \"height\": 600, \"padding\": 0, \"title\": \"Hover to see number of occureances from all the sequences\", \"data\": [{\"name\": \"dataset\", \"values\": [{\"index\": \"Health\", \"count\": 3604}, {\"index\": \"News\", \"count\": 3411}, {\"index\": \"General\", \"count\": 959}, {\"index\": \"Politics\", \"count\": 809}, {\"index\": \"Public\", \"count\": 613}, {\"index\": \"health\", \"count\": 559}, {\"index\": \"National\", \"count\": 508}, {\"index\": \"Care\", \"count\": 486}, {\"index\": \"Environment\", \"count\": 477}, {\"index\": \"Medical\", \"count\": 433}, {\"index\": \"Science\", \"count\": 415}, {\"index\": \"Fact\", \"count\": 389}, {\"index\": \"Checks\", \"count\": 385}, {\"index\": \"U.S.\", \"count\": 384}, {\"index\": \"Facebook\", \"count\": 371}, {\"index\": \"Coronavirus\", \"count\": 365}, {\"index\": \"AP\", \"count\": 339}, {\"index\": \"Top\", \"count\": 326}, {\"index\": \"Viral\", \"count\": 314}, {\"index\": \"news\", \"count\": 303}, {\"index\": \"America\", \"count\": 278}, {\"index\": \"North\", \"count\": 268}, {\"index\": \"New\", \"count\": 259}, {\"index\": \"Florida\", \"count\": 246}, {\"index\": \"Texas\", \"count\": 245}, {\"index\": \"of\", \"count\": 236}, {\"index\": \"Business\", \"count\": 235}, {\"index\": \"Content\", \"count\": 234}, {\"index\": \"Crime\", \"count\": 234}, {\"index\": \"Outbreak\", \"count\": 233}, {\"index\": \"Wisconsin\", \"count\": 205}, {\"index\": \"Fact-checks\", \"count\": 203}, {\"index\": \"Trump\", \"count\": 201}, {\"index\": \"and\", \"count\": 199}, {\"index\": \"International\", \"count\": 191}, {\"index\": \"Donald\", \"count\": 190}, {\"index\": \"Virus\", \"count\": 185}, {\"index\": \"posts\", \"count\": 180}, {\"index\": \"Junk\", \"count\": 168}, {\"index\": \"COVID-19\", \"count\": 166}, {\"index\": \"PunditFact\", \"count\": 161}, {\"index\": \"Budget\", \"count\": 160}, {\"index\": \"Abortion\", \"count\": 153}, {\"index\": \"York\", \"count\": 146}, {\"index\": \"Georgia\", \"count\": 136}, {\"index\": \"Food\", \"count\": 136}, {\"index\": \"Europe\", \"count\": 135}, {\"index\": \"disease\", \"count\": 133}, {\"index\": \"Guns\", \"count\": 133}, {\"index\": \"Africa\", \"count\": 133}, {\"index\": \"Entertainment\", \"count\": 132}, {\"index\": \"care\", \"count\": 121}, {\"index\": \"Disinformation\", \"count\": 119}, {\"index\": \"State\", \"count\": 118}, {\"index\": \"Fauxtography\", \"count\": 114}, {\"index\": \"cancer\", \"count\": 113}, {\"index\": \"Marijuana\", \"count\": 112}, {\"index\": \"Mental\", \"count\": 109}, {\"index\": \"Immigration\", \"count\": 107}, {\"index\": \"California\", \"count\": 107}, {\"index\": \"Education\", \"count\": 102}, {\"index\": \"Asia\", \"count\": 102}, {\"index\": \"Ohio\", \"count\": 102}, {\"index\": \"Government\", \"count\": 99}, {\"index\": \"Legal\", \"count\": 99}, {\"index\": \"Elections\", \"count\": 91}, {\"index\": \"Virginia\", \"count\": 89}, {\"index\": \"United\", \"count\": 89}, {\"index\": \"States\", \"count\": 89}, {\"index\": \"Medicare\", \"count\": 87}, {\"index\": \"/\", \"count\": 87}, {\"index\": \"trump\", \"count\": 87}, {\"index\": \"Economy\", \"count\": 86}, {\"index\": \"University\", \"count\": 86}, {\"index\": \"Justice\", \"count\": 84}, {\"index\": \"the\", \"count\": 84}, {\"index\": \"medical\", \"count\": 84}, {\"index\": \"Pacific\", \"count\": 84}, {\"index\": \"City\", \"count\": 84}, {\"index\": \"Women\", \"count\": 83}, {\"index\": \"Criminal\", \"count\": 82}, {\"index\": \"Island\", \"count\": 82}, {\"index\": \"History\", \"count\": 82}, {\"index\": \"Technology\", \"count\": 81}, {\"index\": \"Rhode\", \"count\": 81}, {\"index\": \"Animals\", \"count\": 81}, {\"index\": \"Safety\", \"count\": 81}, {\"index\": \"Climate\", \"count\": 80}, {\"index\": \"center\", \"count\": 80}, {\"index\": \"Issues\", \"count\": 79}, {\"index\": \"diseases\", \"count\": 78}, {\"index\": \"release\", \"count\": 78}, {\"index\": \"donald\", \"count\": 76}, {\"index\": \"Regulation\", \"count\": 75}, {\"index\": \"online\", \"count\": 74}, {\"index\": \"Oregon\", \"count\": 73}, {\"index\": \"marijuana\", \"count\": 73}, {\"index\": \"Obama\", \"count\": 72}, {\"index\": \"Corrections\", \"count\": 72}, {\"index\": \"Updates\", \"count\": 72}, {\"index\": \"Federal\", \"count\": 72}, {\"index\": \"Academic\", \"count\": 71}, {\"index\": \"Uncategorized\", \"count\": 70}, {\"index\": \"Drugs\", \"count\": 69}, {\"index\": \"Candidate\", \"count\": 69}, {\"index\": \"Biography\", \"count\": 69}, {\"index\": \"Michael\", \"count\": 68}, {\"index\": \"Medicaid\", \"count\": 66}, {\"index\": \"Sports\", \"count\": 66}, {\"index\": \"Children\", \"count\": 66}, {\"index\": \"John\", \"count\": 65}, {\"index\": \"Lawsuits\", \"count\": 64}, {\"index\": \"for\", \"count\": 63}, {\"index\": \"Ebola\", \"count\": 63}, {\"index\": \"Barack\", \"count\": 62}, {\"index\": \"Cancer\", \"count\": 62}, {\"index\": \"Flu\", \"count\": 62}, {\"index\": \"Policy\", \"count\": 61}, {\"index\": \"Foreign\", \"count\": 58}, {\"index\": \"Carolina\", \"count\": 58}, {\"index\": \"China\", \"count\": 58}, {\"index\": \"Michigan\", \"count\": 57}, {\"index\": \"Infectious\", \"count\": 57}, {\"index\": \"virus\", \"count\": 57}, {\"index\": \"Veterans\", \"count\": 56}, {\"index\": \"Prescription\", \"count\": 53}, {\"index\": \"Taxes\", \"count\": 53}, {\"index\": \"ASP\", \"count\": 53}, {\"index\": \"Article\", \"count\": 53}, {\"index\": \"Rick\", \"count\": 52}, {\"index\": \"Message\", \"count\": 51}, {\"index\": \"Machine\", \"count\": 51}, {\"index\": \"food\", \"count\": 50}, {\"index\": \"Vaping\", \"count\": 50}, {\"index\": \"Religion\", \"count\": 50}, {\"index\": \"drugs\", \"count\": 49}, {\"index\": \"Understanding\", \"count\": 49}, {\"index\": \"Bloggers\", \"count\": 48}, {\"index\": \"Angeles\", \"count\": 48}, {\"index\": \"Illinois\", \"count\": 48}, {\"index\": \"American\", \"count\": 48}, {\"index\": \"Scott\", \"count\": 48}, {\"index\": \"image\", \"count\": 47}, {\"index\": \"Colorado\", \"count\": 47}, {\"index\": \"Legislation\", \"count\": 47}, {\"index\": \"Critter\", \"count\": 46}, {\"index\": \"Country\", \"count\": 46}, {\"index\": \"Massachusetts\", \"count\": 46}, {\"index\": \"Latin\", \"count\": 46}, {\"index\": \"Global\", \"count\": 46}, {\"index\": \"Hampshire\", \"count\": 46}, {\"index\": \"Epidemics\", \"count\": 46}, {\"index\": \"Terrorism\", \"count\": 46}, {\"index\": \"Measles\", \"count\": 46}, {\"index\": \"fake\", \"count\": 46}, {\"index\": \"Pollution\", \"count\": 45}, {\"index\": \"Lifestyle\", \"count\": 44}, {\"index\": \"Clinton\", \"count\": 44}, {\"index\": \"Military\", \"count\": 44}, {\"index\": \"to\", \"count\": 43}, {\"index\": \"clinton\", \"count\": 43}, {\"index\": \"Mexico\", \"count\": 43}, {\"index\": \"Agriculture\", \"count\": 43}, {\"index\": \"Pundits\", \"count\": 43}, {\"index\": \"Disease\", \"count\": 43}, {\"index\": \"Travel\", \"count\": 43}, {\"index\": \"Animal\", \"count\": 43}, {\"index\": \"Horrors\", \"count\": 43}, {\"index\": \"Los\", \"count\": 42}, {\"index\": \"Energy\", \"count\": 41}, {\"index\": \"Pandemics\", \"count\": 41}, {\"index\": \"Minnesota\", \"count\": 41}, {\"index\": \"Bill\", \"count\": 40}, {\"index\": \"Indiana\", \"count\": 39}, {\"index\": \"Hillary\", \"count\": 38}, {\"index\": \"Brown\", \"count\": 38}, {\"index\": \"Pennsylvania\", \"count\": 38}, {\"index\": \"Supreme\", \"count\": 38}, {\"index\": \"Poverty\", \"count\": 38}, {\"index\": \"Jobs\", \"count\": 37}, {\"index\": \"2010\", \"count\": 37}, {\"index\": \"Washington\", \"count\": 37}, {\"index\": \"The\", \"count\": 37}, {\"index\": \"Bills\", \"count\": 37}, {\"index\": \"Times\", \"count\": 36}, {\"index\": \"Joe\", \"count\": 36}, {\"index\": \"Hepatitis\", \"count\": 36}, {\"index\": \"Legislature\", \"count\": 35}, {\"index\": \"Service\", \"count\": 35}, {\"index\": \"change\", \"count\": 35}, {\"index\": \"loss\", \"count\": 35}, {\"index\": \"Opioids\", \"count\": 35}, {\"index\": \"Race\", \"count\": 35}, {\"index\": \"Iowa\", \"count\": 35}, {\"index\": \"Courts\", \"count\": 34}, {\"index\": \"-\", \"count\": 34}, {\"index\": \"Sexuality\", \"count\": 34}, {\"index\": \"Court\", \"count\": 34}, {\"index\": \"South\", \"count\": 34}, {\"index\": \"Rights\", \"count\": 33}, {\"index\": \"Check\", \"count\": 33}, {\"index\": \"Fake\", \"count\": 33}, {\"index\": \"Bernie\", \"count\": 33}, {\"index\": \"Sanders\", \"count\": 33}, {\"index\": \"Phenomena\", \"count\": 33}, {\"index\": \"drug\", \"count\": 32}, {\"index\": \"Security\", \"count\": 32}, {\"index\": \"Water\", \"count\": 32}, {\"index\": \"Nations\", \"count\": 32}, {\"index\": \"2020\", \"count\": 32}, {\"index\": \"Media\", \"count\": 32}, {\"index\": \"&\", \"count\": 32}, {\"index\": \"Legionnaires\", \"count\": 32}, {\"index\": \"immigration\", \"count\": 32}, {\"index\": \"Medication\", \"count\": 32}, {\"index\": \"Voting\", \"count\": 31}, {\"index\": \"West\", \"count\": 31}, {\"index\": \"Social\", \"count\": 31}, {\"index\": \"Campaign\", \"count\": 30}, {\"index\": \"Transportation\", \"count\": 30}, {\"index\": \"Warnings\", \"count\": 30}, {\"index\": \"Immunizations\", \"count\": 30}, {\"index\": \"Workers\", \"count\": 30}, {\"index\": \"Mike\", \"count\": 30}, {\"index\": \"Journal\", \"count\": 30}, {\"index\": \"Syphilis\", \"count\": 30}, {\"index\": \"Access\", \"count\": 29}, {\"index\": \"warnings\", \"count\": 29}, {\"index\": \"Air\", \"count\": 29}, {\"index\": \"obama\", \"count\": 29}, {\"index\": \"Ted\", \"count\": 29}, {\"index\": \"Committee\", \"count\": 29}, {\"index\": \"Paul\", \"count\": 29}, {\"index\": \"Congress\", \"count\": 28}, {\"index\": \"Celebrities\", \"count\": 28}, {\"index\": \"industry\", \"count\": 28}, {\"index\": \"David\", \"count\": 28}, {\"index\": \"gun\", \"count\": 28}, {\"index\": \"Lung\", \"count\": 28}, {\"index\": \"election\", \"count\": 28}, {\"index\": \"Conspiracy\", \"count\": 28}, {\"index\": \"Theories\", \"count\": 28}, {\"index\": \"Arizona\", \"count\": 28}, {\"index\": \"breast\", \"count\": 28}, {\"index\": \"Financial\", \"count\": 28}, {\"index\": \"on\", \"count\": 28}, {\"index\": \"abortion\", \"count\": 28}, {\"index\": \"Change\", \"count\": 28}, {\"index\": \"Association/Society\", \"count\": 27}, {\"index\": \"College\", \"count\": 27}, {\"index\": \"daily\", \"count\": 27}, {\"index\": \"George\", \"count\": 27}, {\"index\": \"flu\", \"count\": 27}, {\"index\": \"Tom\", \"count\": 27}, {\"index\": \"Drink\", \"count\": 27}, {\"index\": \"Universal\", \"count\": 27}, {\"index\": \"Reuters\", \"count\": 27}, {\"index\": \"9/11\", \"count\": 27}, {\"index\": \"Record\", \"count\": 27}, {\"index\": \"Maine\", \"count\": 27}, {\"index\": \"Families\", \"count\": 26}, {\"index\": \"Republican\", \"count\": 26}, {\"index\": \"San\", \"count\": 26}, {\"index\": \"Genetics\", \"count\": 26}, {\"index\": \"Ethics\", \"count\": 26}, {\"index\": \"Boston\", \"count\": 25}, {\"index\": \"Caribbean\", \"count\": 25}, {\"index\": \"Associated\", \"count\": 25}, {\"index\": \"Ron\", \"count\": 25}, {\"index\": \"Inboxer\", \"count\": 25}, {\"index\": \"Rebellion\", \"count\": 25}, {\"index\": \"Biden\", \"count\": 25}, {\"index\": \"Heart\", \"count\": 25}, {\"index\": \"East\", \"count\": 25}, {\"index\": \"Genetic\", \"count\": 25}, {\"index\": \"Chicago\", \"count\": 25}, {\"index\": \"crime\", \"count\": 25}, {\"index\": \"Wildlife\", \"count\": 24}, {\"index\": \"Police\", \"count\": 24}, {\"index\": \"Cruz\", \"count\": 24}, {\"index\": \"transmitted\", \"count\": 24}, {\"index\": \"quality\", \"count\": 23}, {\"index\": \"Laws\", \"count\": 23}, {\"index\": \"Politicians\", \"count\": 23}, {\"index\": \"Tennessee\", \"count\": 23}, {\"index\": \"Environmental\", \"count\": 23}, {\"index\": \"cell\", \"count\": 23}, {\"index\": \"Connecticut\", \"count\": 23}, {\"index\": \"Chris\", \"count\": 23}, {\"index\": \"Alabama\", \"count\": 23}, {\"index\": \"reform\", \"count\": 23}, {\"index\": \"Consumer\", \"count\": 22}, {\"index\": \"hillary\", \"count\": 22}, {\"index\": \"barack\", \"count\": 22}, {\"index\": \"Perry\", \"count\": 22}, {\"index\": \"Denver\", \"count\": 22}, {\"index\": \"Attack\", \"count\": 22}, {\"index\": \"Utah\", \"count\": 22}, {\"index\": \"conspiracy\", \"count\": 22}, {\"index\": \"Sexually\", \"count\": 22}]}], \"scales\": [{\"name\": \"color\", \"type\": \"ordinal\", \"range\": [\"cadetblue\", \"royalblue\", \"steelblue\", \"navy\", \"teal\"]}], \"marks\": [{\"type\": \"text\", \"from\": {\"data\": \"dataset\"}, \"encode\": {\"enter\": {\"text\": {\"field\": \"index\"}, \"align\": {\"value\": \"center\"}, \"baseline\": {\"value\": \"alphabetic\"}, \"fill\": {\"scale\": \"color\", \"field\": \"index\"}, \"tooltip\": {\"signal\": \"datum.count + ' occurrances'\"}}}, \"transform\": [{\"type\": \"wordcloud\", \"text\": {\"field\": \"index\"}, \"size\": [900, 600], \"font\": \"Helvetica Neue, Arial\", \"fontSize\": {\"field\": \"datum.count\"}, \"fontSizeRange\": [10, 60], \"padding\": 2}]}]};     \n",
       "        vg_embed(\"#vega-chart\", spec, {defaultStyle: true}).catch(console.warn);\n",
       "        console.log(\"works?\");\n",
       "    });\n",
       "    console.log(\"recheck to see if it works?\");\n",
       "    </script>\n",
       "    "
      ],
      "text/plain": [
       "<IPython.core.display.HTML object>"
      ]
     },
     "execution_count": 8,
     "metadata": {},
     "output_type": "execute_result"
    }
   ],
   "source": [
    "train_df.subjects = train_df.subjects.apply(lambda x: x.replace(',', ''))\n",
    "wordcloud_create(train_df, \"subjects\")\n",
    "\n"
   ]
  },
  {
   "cell_type": "markdown",
   "metadata": {},
   "source": [
    "From the wordcloud we can observe that most of the subjects are related to Health and wellbeing. "
   ]
  },
  {
   "cell_type": "markdown",
   "metadata": {},
   "source": [
    "#### How is the spread of entries throughout our database? "
   ]
  },
  {
   "cell_type": "code",
   "execution_count": 9,
   "metadata": {},
   "outputs": [
    {
     "data": {
      "image/png": "[encoded data removed]",
      "text/plain": [
       "<Figure size 1440x1080 with 1 Axes>"
      ]
     },
     "metadata": {
      "needs_background": "light"
     },
     "output_type": "display_data"
    }
   ],
   "source": [
    "sns.set_context('talk')\n",
    "plt.figure(figsize=(20,15))\n",
    "ax = sns.countplot(y='date_published_year', data=train_df,  palette='rocket_r')\n",
    "#Naming\n",
    "plt.title(\"Entries vs Years in the Dataset\")\n",
    "plt.xlabel(\"Count of Records\")\n",
    "plt.ylabel(\"Records from that year\")\n",
    "for i in ax.patches:\n",
    "    ax.text(i.get_width()+.3, i.get_y()+0.5, str(round(i.get_width())), fontsize = 15, color = 'k')"
   ]
  },
  {
   "cell_type": "markdown",
   "metadata": {},
   "source": [
    "We can observe that most of the records are from the recent years, dating back to 1995.\n",
    "This shows: \n",
    "- Most of the data will be recent for our dataset\n",
    "\n"
   ]
  },
  {
   "cell_type": "markdown",
   "metadata": {},
   "source": [
    "# Preparing Data for Training"
   ]
  },
  {
   "cell_type": "markdown",
   "metadata": {},
   "source": [
    "## Idea for training being followed in this notebook"
   ]
  },
  {
   "attachments": {
    "sorcero%20task%20architecture.png": {
     "image/png": "[encoded data removed]"
    }
   },
   "cell_type": "markdown",
   "metadata": {},
   "source": [
    "Since the main text is definitely longer than the 512 tokens that any Bert related model can handle at this point of time, research has come up with various interesting techniques to overcome the issue. \n",
    "\n",
    "For the particular problem of factchecking, the solution is to fetch top _k_ similar sentences from the main text to the claim sentence. This allows only those sentences to be tokenized and passed to the Model for training for classification. \n",
    "\n",
    "The architecture would look something like: \n",
    "\n",
    "![sorcero%20task%20architecture.png](attachment:sorcero%20task%20architecture.png)"
   ]
  },
  {
   "cell_type": "markdown",
   "metadata": {},
   "source": [
    "## Fetching topk sentences"
   ]
  },
  {
   "cell_type": "code",
   "execution_count": 10,
   "metadata": {},
   "outputs": [],
   "source": [
    "def process_runner_function(df: DataFrame):\n",
    "    '''\n",
    "        A function to run all the sub functions for preprocessing. \n",
    "        - manual_config: \n",
    "            @param: df, A dataframe on which the processing has to be applied\n",
    "        - Result:\n",
    "            - Df with updated columns\n",
    "    '''\n",
    "    print('Splitting into sentences')\n",
    "    df['main_text_sentences'] = df['main_text'].progress_apply(lambda x: split_into_sentences(x))\n",
    "    \n",
    "    print('Fetching topk sentences')\n",
    "    df['top_k_sentences'] = df.progress_apply(lambda x: get_top_k_similar_sentences(x.claim, x.main_text_sentences, 5), axis=1)\n",
    "    \n",
    "    return df"
   ]
  },
  {
   "cell_type": "code",
   "execution_count": 11,
   "metadata": {
    "scrolled": false
   },
   "outputs": [
    {
     "name": "stdout",
     "output_type": "stream",
     "text": [
      "Splitting into sentences\n"
     ]
    },
    {
     "data": {
      "application/vnd.jupyter.widget-view+json": {
       "model_id": "cc1a0e8af94a4d4180a6d466f358aba4",
       "version_major": 2,
       "version_minor": 0
      },
      "text/plain": [
       "  0%|          | 0/9804 [00:00<?, ?it/s]"
      ]
     },
     "metadata": {},
     "output_type": "display_data"
    },
    {
     "name": "stdout",
     "output_type": "stream",
     "text": [
      "Fetching topk sentences\n"
     ]
    },
    {
     "data": {
      "application/vnd.jupyter.widget-view+json": {
       "model_id": "6f28d2fbc1be461fa5464990a384e30d",
       "version_major": 2,
       "version_minor": 0
      },
      "text/plain": [
       "  0%|          | 0/9804 [00:00<?, ?it/s]"
      ]
     },
     "metadata": {},
     "output_type": "display_data"
    },
    {
     "name": "stdout",
     "output_type": "stream",
     "text": [
      "Splitting into sentences\n"
     ]
    },
    {
     "data": {
      "application/vnd.jupyter.widget-view+json": {
       "model_id": "3e890168efe140d3938ce8edb361c3c0",
       "version_major": 2,
       "version_minor": 0
      },
      "text/plain": [
       "  0%|          | 0/1233 [00:00<?, ?it/s]"
      ]
     },
     "metadata": {},
     "output_type": "display_data"
    },
    {
     "name": "stdout",
     "output_type": "stream",
     "text": [
      "Fetching topk sentences\n"
     ]
    },
    {
     "data": {
      "application/vnd.jupyter.widget-view+json": {
       "model_id": "a7ebeb913bdb4180bd3a4f64ec74fff7",
       "version_major": 2,
       "version_minor": 0
      },
      "text/plain": [
       "  0%|          | 0/1233 [00:00<?, ?it/s]"
      ]
     },
     "metadata": {},
     "output_type": "display_data"
    },
    {
     "name": "stdout",
     "output_type": "stream",
     "text": [
      "Splitting into sentences\n"
     ]
    },
    {
     "data": {
      "application/vnd.jupyter.widget-view+json": {
       "model_id": "8547b4bf64f046afab7d209b61f39598",
       "version_major": 2,
       "version_minor": 0
      },
      "text/plain": [
       "  0%|          | 0/1214 [00:00<?, ?it/s]"
      ]
     },
     "metadata": {},
     "output_type": "display_data"
    },
    {
     "name": "stdout",
     "output_type": "stream",
     "text": [
      "Fetching topk sentences\n"
     ]
    },
    {
     "data": {
      "application/vnd.jupyter.widget-view+json": {
       "model_id": "1f62245bdeb24badae373b13bed30300",
       "version_major": 2,
       "version_minor": 0
      },
      "text/plain": [
       "  0%|          | 0/1214 [00:00<?, ?it/s]"
      ]
     },
     "metadata": {},
     "output_type": "display_data"
    }
   ],
   "source": [
    "train_df = process_runner_function(train_df)\n",
    "test_df = process_runner_function(test_df)\n",
    "val_df = process_runner_function(val_df)"
   ]
  },
  {
   "cell_type": "code",
   "execution_count": 13,
   "metadata": {},
   "outputs": [],
   "source": [
    "train_df['top_k_sentences_joined'] = train_df['top_k_sentences'].apply(lambda x: ''.join( x))\n",
    "val_df['top_k_sentences_joined'] = val_df['top_k_sentences'].apply(lambda x: ''.join(x))\n",
    "test_df['top_k_sentences_joined'] = test_df['top_k_sentences'].apply(lambda x: ''.join(x))"
   ]
  },
  {
   "cell_type": "markdown",
   "metadata": {},
   "source": [
    "#### How many tokens will be needed? "
   ]
  },
  {
   "cell_type": "code",
   "execution_count": 14,
   "metadata": {
    "scrolled": true
   },
   "outputs": [
    {
     "data": {
      "image/png": "[encoded data removed]",
      "text/plain": [
       "<Figure size 432x288 with 1 Axes>"
      ]
     },
     "metadata": {
      "needs_background": "light"
     },
     "output_type": "display_data"
    }
   ],
   "source": [
    "token_counts = []\n",
    "\n",
    "tokenizer =  AutoTokenizer.from_pretrained('allenai/scibert_scivocab_uncased')\n",
    "for _, row in train_df.iterrows():\n",
    "    token_count = len(tokenizer.encode(\n",
    "    row[\"claim\"],\n",
    "    row['top_k_sentences_joined'],\n",
    "    max_length=512,\n",
    "    truncation='longest_first'\n",
    "  ))\n",
    "    token_counts.append(token_count)\n",
    "    \n",
    "sns.histplot(token_counts)\n",
    "plt.xlim([0, 512]);"
   ]
  },
  {
   "cell_type": "markdown",
   "metadata": {},
   "source": [
    "We can keep the token count to be 512, as it seems most of the examples out of 9k fit under 512, while only 2-300 exceed. "
   ]
  },
  {
   "cell_type": "markdown",
   "metadata": {},
   "source": [
    "## Model Building\n",
    "In this section, we have: \n",
    "- ### Config \n",
    "- ### DataLoader\n",
    "- ### Model"
   ]
  },
  {
   "cell_type": "markdown",
   "metadata": {},
   "source": [
    "### Details about the configuration: \n",
    "\n",
    "For the model, I have chosen Scibert. Taking the research paper for this dataset in mind and noticing how Scibert performed the best overall, I set out to recreating the results from the paper. \n",
    "\n",
    "With no code properly provided, I set out to creating their architecture. \n",
    "\n",
    "There are many approaches and perhaps a Siamese or dual architecture could have given better results, but keeping in mind that this was a preliminary approach, I have gone with the default method of concatenating both the top k sentences and claim into one. \n",
    "\n",
    "After having explained that, let me go through my decision choices for the following blocks of code. \n",
    "\n",
    "Since this task is mainly to check my code building skills, I have left the model classes inside the Jupyter notebook itself, so that it is easier to read and evaluate. \n",
    "\n",
    "---\n",
    "\n",
    "Thought process behind each class: \n",
    "\n",
    "- #### Config\n",
    " - The reason for the variables set: \n",
    "      1. Seed: 42 is a personal favourite of mine while setting a random seed. \n",
    "      2. Epochs: To keep it simple and to save on training time, the epochs were kept at 2. \n",
    "      3. Max_seq_length: Since most of the concatenated tokens fall under 512, it was an acceptable approach to set it as 512. \n",
    "      4. Batch Sizes: These were the ones which could best fit on my GPU under one go, thus, that's why those numbers were chosen. \n",
    "      5. Optimizer: AdamW; Simple, Effective, Fast for our particular use case. \n",
    "      6. Dropout: 0.2 to begin with.\n",
    "      7. Warmup: 0.1, allows us to linearly scale up the learning rate during those steps. Avoids early overfitting. \n",
    "      8. Scheduler: linear, to keep it easy to follow and for the learning rate to not be affected much\n",
    "  \n",
    "  \n",
    "- #### Model: \n",
    " - Reasons\n",
    "   1. The vanilla linear layer has the architecture of: 768->128, 128->4 (number of classes) This could be changed to some other architecture to get better resutls. \n",
    "   2. Loss function: CrossEntropyLoss: Already has softmax built in, suited for multi class classification. The weights have been initialized so that the imbalance doesn't effect the results as much. \n",
    "   \n",
    "  "
   ]
  },
  {
   "cell_type": "code",
   "execution_count": 15,
   "metadata": {},
   "outputs": [],
   "source": [
    "# Defining classes with values\n",
    "\n",
    "class Config:\n",
    "\n",
    "    def __init__(self):\n",
    "        super(Config, self).__init__()\n",
    "        \n",
    "        #model\n",
    "        self.seed = 42\n",
    "        self.model_name_or_path = 'allenai/scibert_scivocab_uncased'\n",
    "        self.num_labels = 4\n",
    "        #device\n",
    "        self.DEVICE = torch.device('cuda' if torch.cuda.is_available() else 'cpu')\n",
    "\n",
    "        #tokenizer\n",
    "        self.tokenizer_name = 'allenai/scibert_scivocab_uncased'\n",
    "        self.max_seq_length = 512\n",
    "\n",
    "         # train\n",
    "        self.epochs = 2\n",
    "        self.train_batch_size = 8\n",
    "        self.eval_batch_size = 12\n",
    "        #test\n",
    "        self.test_batch_size = 12\n",
    "\n",
    "        # optimizer\n",
    "        self.optimizer_type = 'AdamW'\n",
    "        self.learning_rate = 3e-5\n",
    "\n",
    "        self.dropout = 0.2\n",
    "        self.weight_decay = 0.001\n",
    "\n",
    "\n",
    "        # scheduler\n",
    "        self.decay_name = 'linear-warmup'\n",
    "        self.warmup_ratio = 0.2\n",
    "\n",
    "        # logging\n",
    "        self.logging_steps = 10\n",
    "\n",
    "     \n",
    "        # evaluate\n",
    "        self.output_dir = 'output'\n",
    "\n",
    "\n",
    "class DatasetRetriever(Dataset):\n",
    "    def __init__(self, features, mode='train'):\n",
    "        super(DatasetRetriever, self).__init__()\n",
    "        self.features = features\n",
    "        self.mode = mode\n",
    "    \n",
    "    def __len__(self):\n",
    "        return len(self.features)\n",
    "    \n",
    "    def __getitem__(self, item):\n",
    "        feature = self.features[item]\n",
    "        if self.mode == 'train':\n",
    "            return {\n",
    "                'input_ids':torch.tensor(feature['input_ids'], dtype=torch.long),\n",
    "                'attention_mask':torch.tensor(feature['attention_mask'], dtype=torch.long),\n",
    "                'label':torch.tensor(feature['label'], dtype=torch.long),\n",
    "        \n",
    "            }\n",
    "        else:\n",
    "            return {\n",
    "                'input_ids':torch.tensor(feature['input_ids'], dtype=torch.long),\n",
    "                'attention_mask':torch.tensor(feature['attention_mask'], dtype=torch.long),\n",
    "                \n",
    "            }\n",
    "\n",
    "\n",
    "\n",
    "     \n",
    "        \n",
    "        \n",
    "class Model(nn.Module):\n",
    "    def __init__(self, modelname_or_path, config, manual_config):\n",
    "        super(Model, self).__init__()\n",
    "        self.config = config\n",
    "        self.scibert = AutoModel.from_pretrained(modelname_or_path, config=config)\n",
    "        \n",
    "        self.classifier = nn.Sequential(\n",
    "            nn.Dropout(manual_config.dropout),\n",
    "            nn.Linear(config.hidden_size, 128),\n",
    "            nn.Linear(128, manual_config.num_labels)\n",
    "            \n",
    "        )\n",
    "\n",
    "        \n",
    "    def forward(\n",
    "        self, \n",
    "        input_ids, \n",
    "        attention_mask=None, \n",
    "        token_type_ids=None\n",
    "    ):\n",
    "        outputs = self.scibert(\n",
    "            input_ids= input_ids,\n",
    "            attention_mask=attention_mask,\n",
    "            token_type_ids=token_type_ids\n",
    "        )\n",
    "\n",
    "        # Extract the last hidden state of the token `[CLS]` for classification task\n",
    "        last_hidden_state_cls = outputs[0][:, 0, :]\n",
    "        \n",
    "        # Feed input to classifier to compute logits\n",
    "        logits = self.classifier(last_hidden_state_cls)\n",
    "        \n",
    "    \n",
    "        return logits"
   ]
  },
  {
   "cell_type": "code",
   "execution_count": 16,
   "metadata": {},
   "outputs": [],
   "source": [
    "# Functions to load the dataloader and create the model based on the config in the previous class\n",
    "\n",
    "\n",
    "def make_loader(\n",
    "    manual_config, tokenizer, train=None, val=None, test=None\n",
    "    \n",
    "):\n",
    "    '''\n",
    "        This function is used to create the data loader. The idea for the dataloader is a concatenation of claim\n",
    "        and evidence sentences for this particualr approach. \n",
    "        \n",
    "        Arguments:\n",
    "        - @param: manual_config, dictionary, the features configured in the Config class. \n",
    "        - @param: tokenizer: The tokenizer loaded from the make_model function for splitting sentences into words. \n",
    "        - @param: train: dataframe: Train dataframe\n",
    "        - @param: val: dataframe: Val dataframe\n",
    "        - @param: test: dataframe: Test dataframe\n",
    "        \n",
    "        Returns:\n",
    "            - Train/Test/Val dataloader. \n",
    "    \n",
    "    \n",
    "    '''\n",
    "    \n",
    "    if train is not None and val is not None:\n",
    "        train_set, valid_set = train, val\n",
    "\n",
    "        train_features, valid_features = [[] for _ in range(2)]\n",
    "        print(\"Preparing train features\")\n",
    "        for i, row in tqdm(train_set.iterrows()):\n",
    "            train_features += prepare_train_features(manual_config, row, tokenizer)\n",
    "\n",
    "        print(\"Preparing validation features\")\n",
    "        for i, row in tqdm(valid_set.iterrows()):\n",
    "            valid_features += prepare_train_features(manual_config, row, tokenizer)\n",
    "            \n",
    "        train_dataset = DatasetRetriever(train_features)\n",
    "        valid_dataset = DatasetRetriever(valid_features)\n",
    "    \n",
    "        print(f\"Num examples Train= {len(train_dataset)}, Num examples Valid={len(valid_dataset)}\")\n",
    "\n",
    "        train_sampler = RandomSampler(train_dataset)\n",
    "        valid_sampler = SequentialSampler(valid_dataset)\n",
    "        \n",
    "        train_dataloader = DataLoader(\n",
    "        train_dataset,\n",
    "        batch_size=manual_config.train_batch_size,\n",
    "        sampler=train_sampler,\n",
    "        pin_memory=True,\n",
    "        drop_last=False \n",
    "        )\n",
    "\n",
    "        valid_dataloader = DataLoader(\n",
    "            valid_dataset,\n",
    "            batch_size=manual_config.eval_batch_size, \n",
    "            sampler=valid_sampler,\n",
    "            pin_memory=True, \n",
    "            drop_last=False\n",
    "        )\n",
    "        \n",
    "        \n",
    "        \n",
    "        return train_dataloader, valid_dataloader\n",
    "        \n",
    "    if test is not None:\n",
    "        test_set = test\n",
    "        test_features = []\n",
    "        print(\"Preparing Test features\")\n",
    "        for i, row in tqdm(test_set.iterrows()):\n",
    "            test_features += prepare_train_features(manual_config, row, tokenizer)\n",
    "        test_dataset = DatasetRetriever(test_features)\n",
    "        print(f'Num examples Test={len(test_dataset)}')\n",
    "\n",
    "   \n",
    "        test_sampler = SequentialSampler(test_dataset)\n",
    "\n",
    "   \n",
    "        test_dataloader = DataLoader(\n",
    "        test_dataset,\n",
    "        batch_size=manual_config.test_batch_size, \n",
    "        sampler=test_sampler,\n",
    "        pin_memory=True, \n",
    "        drop_last=False\n",
    "        )\n",
    "\n",
    "\n",
    "        return test_dataloader\n",
    "\n",
    "\n",
    "\n",
    "def make_model(manual_config):\n",
    "    '''\n",
    "        This function is used to create: The model configuration (base) and the tokenizer needed for the model\n",
    "        training\n",
    "        \n",
    "        Args: \n",
    "        - @param: manual_config: dictionary, all information from the Config class\n",
    "        \n",
    "        Returns: \n",
    "        - Model_Config\n",
    "        - Tokenizer\n",
    "        - Loaded Model\n",
    "    '''\n",
    "    \n",
    "    config = AutoConfig.from_pretrained(manual_config.model_name_or_path)\n",
    "    tokenizer = AutoTokenizer.from_pretrained(manual_config.tokenizer_name)\n",
    "    model = Model(manual_config.model_name_or_path, config=config, manual_config = manual_config)\n",
    "    return config, tokenizer, model\n",
    "\n"
   ]
  },
  {
   "cell_type": "markdown",
   "metadata": {},
   "source": [
    "### Creating Classes for Train and Evaluate"
   ]
  },
  {
   "cell_type": "code",
   "execution_count": 17,
   "metadata": {},
   "outputs": [],
   "source": [
    "class Trainer:\n",
    "    def __init__(\n",
    "        self, model, tokenizer, \n",
    "        optimizer, scheduler, config\n",
    "    ):\n",
    "        self.model = model\n",
    "        self.tokenizer = tokenizer\n",
    "        self.optimizer = optimizer\n",
    "        self.scheduler = scheduler\n",
    "        self.class_weights = class_weights\n",
    "        self.criterion = nn.CrossEntropyLoss(weight=class_weights,reduction='mean')\n",
    "\n",
    "    def train(\n",
    "        self, manual_config, \n",
    "        train_dataloader, \n",
    "        epoch, result_dict\n",
    "    ):\n",
    "        count = 0\n",
    "        losses = AverageMeter()\n",
    "        \n",
    "        self.model.zero_grad()\n",
    "        self.model.train()\n",
    "        \n",
    "        fix_all_seeds(manual_config.seed)\n",
    "        \n",
    "        for batch_idx, batch_data in enumerate(train_dataloader):\n",
    "            input_ids, attention_mask, target = \\\n",
    "                batch_data['input_ids'], batch_data['attention_mask'], \\\n",
    "                    batch_data['label']\n",
    "            \n",
    "            input_ids, attention_mask, target = input_ids.cuda(), attention_mask.cuda(), target.cuda()\n",
    "\n",
    "            logits = self.model(\n",
    "                input_ids=input_ids,\n",
    "                attention_mask=attention_mask,\n",
    "            )\n",
    "            \n",
    "            \n",
    "            \n",
    "            self.optimizer.zero_grad()\n",
    "\n",
    "            #calculate losss\n",
    "           \n",
    "            loss = self.criterion(logits, target)\n",
    "            \n",
    "            #backward pass\n",
    "            loss.backward()\n",
    "\n",
    "            count += input_ids.size(0)\n",
    "            losses.update(loss.item(), input_ids.size(0))\n",
    "\n",
    "\n",
    "           \n",
    "            self.optimizer.step()\n",
    "            self.scheduler.step()\n",
    "            \n",
    "            \n",
    "            #Print loss when batches complete\n",
    "\n",
    "            if (batch_idx+1)==len(train_dataloader):\n",
    "                _s = str(len(str(len(train_dataloader.sampler))))\n",
    "                ret = [\n",
    "                    ('Epoch: {:0>2} [{: >' + _s + '}/{} ({: >3.0f}%)]').format(epoch, count, len(train_dataloader.sampler), 100 * count / len(train_dataloader.sampler)),\n",
    "                    'Train Loss: {: >4.5f}'.format(losses.avg),\n",
    "                ]\n",
    "                print(', '.join(ret))\n",
    "\n",
    "        result_dict['train_loss'].append(losses.avg)\n",
    "        return result_dict"
   ]
  },
  {
   "cell_type": "code",
   "execution_count": 18,
   "metadata": {},
   "outputs": [],
   "source": [
    "class Evaluator:\n",
    "    def __init__(self, model, config):\n",
    "        self.model = model\n",
    "        self.criterion = nn.CrossEntropyLoss(weight=class_weights,reduction='mean')\n",
    "\n",
    "    \n",
    "    def save(self, result, output_dir):\n",
    "        with open(f'{output_dir}/result_dict.json', 'w') as f:\n",
    "            f.write(json.dumps(result, sort_keys=True, indent=4, ensure_ascii=False))\n",
    "\n",
    "    def evaluate(self, valid_dataloader, epoch, result_dict):\n",
    "        #Initialize base losses\n",
    "        losses = AverageMeter()\n",
    "        for batch_idx, batch_data in enumerate(valid_dataloader):\n",
    "            self.model = self.model.eval()\n",
    "            \n",
    "            input_ids, attention_mask, targets = \\\n",
    "                batch_data['input_ids'], batch_data['attention_mask'], \\\n",
    "                    batch_data['label']\n",
    "            \n",
    "            input_ids, attention_mask, targets = \\\n",
    "                input_ids.cuda(), attention_mask.cuda(), targets.cuda()\n",
    "            \n",
    "            # We use torch.no_grad() to skip all gradient calc over the weights for the evaluation process\n",
    "            with torch.no_grad():            \n",
    "                logits = self.model(\n",
    "                    input_ids=input_ids,\n",
    "                    attention_mask=attention_mask,\n",
    "                )\n",
    "                \n",
    "                loss = self.criterion(logits, targets)\n",
    "                losses.update(loss.item(), input_ids.size(0))\n",
    "                \n",
    "        print('----Validation Results Summary----')\n",
    "        print('Epoch: [{}] Valid Loss: {: >4.5f}'.format(epoch, losses.avg))\n",
    "        result_dict['val_loss'].append(losses.avg)        \n",
    "        return result_dict"
   ]
  },
  {
   "cell_type": "code",
   "execution_count": 19,
   "metadata": {},
   "outputs": [],
   "source": [
    "def init_training(manual_config, train_df, val_df):\n",
    "    fix_all_seeds(manual_config.seed)\n",
    "    \n",
    "    if not os.path.exists(manual_config.output_dir):\n",
    "        os.makedirs(manual_config.output_dir)\n",
    "    \n",
    "    # model\n",
    "  \n",
    "    model_config, tokenizer, model = make_model(manual_config)\n",
    "    if torch.cuda.device_count() >= 1:\n",
    "        print('Model pushed to {} GPU(s), type {}.'.format(\n",
    "            torch.cuda.device_count(), \n",
    "            torch.cuda.get_device_name(0))\n",
    "        )\n",
    "        model = model.cuda() \n",
    "    else:\n",
    "        raise ValueError('CPU training is not supported')\n",
    "    \n",
    "    # data loaders\n",
    "    train_dataloader, valid_dataloader = make_loader(manual_config,tokenizer,  train=train_df, val=val_df )\n",
    "\n",
    "    # optimizer setup\n",
    "    optimizer = make_optimizer(manual_config, model)\n",
    "\n",
    "    # scheduler\n",
    "    num_training_steps = math.ceil(len(train_dataloader)) * manual_config.epochs\n",
    "    if manual_config.warmup_ratio > 0:\n",
    "        num_warmup_steps = int(manual_config.warmup_ratio * num_training_steps)\n",
    "    else:\n",
    "        num_warmup_steps = 0\n",
    "    print(f\"Total Training Steps: {num_training_steps}, Total Warmup Steps: {num_warmup_steps}\")\n",
    "    scheduler = make_scheduler(manual_config, optimizer, num_warmup_steps, num_training_steps)\n",
    "\n",
    "  \n",
    "    \n",
    "    result_dict = {\n",
    "        'epoch':[], \n",
    "        'train_loss': [], \n",
    "        'val_loss' : [], \n",
    "        'best_val_loss': np.inf\n",
    "    }\n",
    "\n",
    "    return (\n",
    "        model, model_config, tokenizer, optimizer, scheduler, \n",
    "        train_dataloader, valid_dataloader, result_dict\n",
    "    )"
   ]
  },
  {
   "cell_type": "code",
   "execution_count": 20,
   "metadata": {},
   "outputs": [],
   "source": [
    "def run(train_df, val_df):\n",
    "    manual_config = Config()\n",
    "    model, model_config, tokenizer, optimizer, scheduler, train_dataloader, \\\n",
    "        valid_dataloader, result_dict = init_training(manual_config, train_df, val_df)\n",
    "    \n",
    "    trainer = Trainer(model, tokenizer, optimizer, scheduler, manual_config)\n",
    "    evaluator = Evaluator(model, manual_config)\n",
    "\n",
    "    train_time_list = []\n",
    "    valid_time_list = []\n",
    "\n",
    "    for epoch in range(manual_config.epochs):\n",
    "        result_dict['epoch'].append(epoch)\n",
    "\n",
    "        # Train and calc the time\n",
    "        torch.cuda.synchronize()\n",
    "        tic1 = time.time()\n",
    "        result_dict = trainer.train(\n",
    "            manual_config, train_dataloader, \n",
    "            epoch, result_dict\n",
    "        )\n",
    "        torch.cuda.synchronize()\n",
    "        tic2 = time.time() \n",
    "        train_time_list.append(tic2 - tic1)\n",
    "        \n",
    "        # Evaluate and clac the time\n",
    "        torch.cuda.synchronize()\n",
    "        tic3 = time.time()\n",
    "        result_dict = evaluator.evaluate(\n",
    "            valid_dataloader, epoch, result_dict\n",
    "        )\n",
    "        torch.cuda.synchronize()\n",
    "        tic4 = time.time() \n",
    "        valid_time_list.append(tic4 - tic3)\n",
    "            \n",
    "        # Save best output\n",
    "        output_dir = manual_config.output_dir\n",
    "        if result_dict['val_loss'][-1] < result_dict['best_val_loss']:\n",
    "            print(\"{} Epoch, Best epoch was updated! Valid Loss: {: >4.5f}\".format(epoch, result_dict['val_loss'][-1]))\n",
    "            result_dict[\"best_val_loss\"] = result_dict['val_loss'][-1]        \n",
    "            \n",
    "            os.makedirs(output_dir, exist_ok=True)\n",
    "            torch.save(model.state_dict(), f\"{output_dir}/pytorch_model.bin\")\n",
    "            model_config.save_pretrained(output_dir)\n",
    "            tokenizer.save_pretrained(output_dir)\n",
    "            print(f\"Saving model checkpoint to {output_dir}.\")\n",
    "            \n",
    "     \n",
    "\n",
    "    evaluator.save(result_dict, output_dir)\n",
    "    \n",
    "    print(f\"Total Training Time: {np.sum(train_time_list)}secs, Average Training Time per Epoch: {np.mean(train_time_list)}secs.\")\n",
    "    print(f\"Total Validation Time: {np.sum(valid_time_list)}secs, Average Validation Time per Epoch: {np.mean(valid_time_list)}secs.\")\n",
    "    \n",
    "    \n",
    "    #Free up memory from GPU to allow to re-train faster\n",
    "    torch.cuda.empty_cache()\n",
    "    del trainer, evaluator\n",
    "    del optimizer, scheduler\n",
    "    del train_dataloader, valid_dataloader, result_dict\n",
    "    gc.collect()\n",
    "    \n",
    "    model, model_config, tokenizer =  model, model_config, tokenizer\n",
    "    \n",
    "    return model, model_config, tokenizer"
   ]
  },
  {
   "cell_type": "markdown",
   "metadata": {},
   "source": [
    "# Training the model"
   ]
  },
  {
   "cell_type": "code",
   "execution_count": 21,
   "metadata": {
    "scrolled": false
   },
   "outputs": [
    {
     "name": "stderr",
     "output_type": "stream",
     "text": [
      "Some weights of the model checkpoint at allenai/scibert_scivocab_uncased were not used when initializing BertModel: ['cls.seq_relationship.weight', 'cls.predictions.decoder.bias', 'cls.predictions.transform.dense.weight', 'cls.predictions.transform.dense.bias', 'cls.seq_relationship.bias', 'cls.predictions.bias', 'cls.predictions.decoder.weight', 'cls.predictions.transform.LayerNorm.weight', 'cls.predictions.transform.LayerNorm.bias']\n",
      "- This IS expected if you are initializing BertModel from the checkpoint of a model trained on another task or with another architecture (e.g. initializing a BertForSequenceClassification model from a BertForPreTraining model).\n",
      "- This IS NOT expected if you are initializing BertModel from the checkpoint of a model that you expect to be exactly identical (initializing a BertForSequenceClassification model from a BertForSequenceClassification model).\n"
     ]
    },
    {
     "name": "stdout",
     "output_type": "stream",
     "text": [
      "Model pushed to 1 GPU(s), type GeForce RTX 3060.\n",
      "Preparing train features\n"
     ]
    },
    {
     "data": {
      "application/vnd.jupyter.widget-view+json": {
       "model_id": "d71ad539344847c0b45226b07813c9fe",
       "version_major": 2,
       "version_minor": 0
      },
      "text/plain": [
       "0it [00:00, ?it/s]"
      ]
     },
     "metadata": {},
     "output_type": "display_data"
    },
    {
     "name": "stdout",
     "output_type": "stream",
     "text": [
      "Preparing validation features\n"
     ]
    },
    {
     "data": {
      "application/vnd.jupyter.widget-view+json": {
       "model_id": "81d739419dd84508bcfada18159702f0",
       "version_major": 2,
       "version_minor": 0
      },
      "text/plain": [
       "0it [00:00, ?it/s]"
      ]
     },
     "metadata": {},
     "output_type": "display_data"
    },
    {
     "name": "stdout",
     "output_type": "stream",
     "text": [
      "Num examples Train= 9804, Num examples Valid=1214\n",
      "Total Training Steps: 2452, Total Warmup Steps: 490\n",
      "Epoch: 00 [9804/9804 (100%)], Train Loss: 1.06362\n",
      "----Validation Results Summary----\n",
      "Epoch: [0] Valid Loss: 0.90552\n",
      "0 Epoch, Best epoch was updated! Valid Loss: 0.90552\n",
      "Saving model checkpoint to output.\n",
      "Epoch: 01 [9804/9804 (100%)], Train Loss: 0.63460\n",
      "----Validation Results Summary----\n",
      "Epoch: [1] Valid Loss: 0.85210\n",
      "1 Epoch, Best epoch was updated! Valid Loss: 0.85210\n",
      "Saving model checkpoint to output.\n",
      "Total Training Time: 917.1019823551178secs, Average Training Time per Epoch: 458.5509911775589secs.\n",
      "Total Validation Time: 35.69749426841736secs, Average Validation Time per Epoch: 17.84874713420868secs.\n"
     ]
    }
   ],
   "source": [
    "model, model_config, tokenizer = run(train_df, val_df)"
   ]
  },
  {
   "cell_type": "markdown",
   "metadata": {},
   "source": [
    "# Performance on test dataset"
   ]
  },
  {
   "cell_type": "code",
   "execution_count": 22,
   "metadata": {},
   "outputs": [],
   "source": [
    "manual_config = Config()"
   ]
  },
  {
   "cell_type": "code",
   "execution_count": 23,
   "metadata": {},
   "outputs": [],
   "source": [
    "def predict_on_test(model):\n",
    "    test_dataloader = make_loader(manual_config, tokenizer,  test=test_df)\n",
    "    # Creating true values:\n",
    "    test_true = []\n",
    "    for index, item in enumerate(test_dataloader):\n",
    "        test_true.extend(item['label'].cpu().numpy())\n",
    "        \n",
    "    test_loss = 0\n",
    "    test_pred = []\n",
    "    model.eval()\n",
    "    for step, batch in enumerate(test_dataloader):\n",
    "        b_input_ids = batch['input_ids'].cuda()\n",
    "        b_attention_mask = batch['attention_mask'].cuda()\n",
    "\n",
    "        with torch.no_grad():\n",
    "            logits = model(input_ids=b_input_ids, attention_mask=b_attention_mask)\n",
    "            logits = torch.argmax(logits, dim=1)\n",
    "            logits = logits.cpu().numpy()\n",
    "            test_pred.extend(logits)\n",
    "\n",
    "    test_pred = np.array(test_pred)\n",
    "   \n",
    "    \n",
    "    return test_pred, test_true\n",
    "\n"
   ]
  },
  {
   "cell_type": "code",
   "execution_count": 24,
   "metadata": {},
   "outputs": [
    {
     "name": "stdout",
     "output_type": "stream",
     "text": [
      "Preparing Test features\n"
     ]
    },
    {
     "data": {
      "application/vnd.jupyter.widget-view+json": {
       "model_id": "303aa874eafa4cf281e0dbdcdb136583",
       "version_major": 2,
       "version_minor": 0
      },
      "text/plain": [
       "0it [00:00, ?it/s]"
      ]
     },
     "metadata": {},
     "output_type": "display_data"
    },
    {
     "name": "stdout",
     "output_type": "stream",
     "text": [
      "Num examples Test=1233\n"
     ]
    }
   ],
   "source": [
    "test_pred, test_true = predict_on_test(model)"
   ]
  },
  {
   "cell_type": "code",
   "execution_count": 25,
   "metadata": {
    "scrolled": false
   },
   "outputs": [
    {
     "name": "stdout",
     "output_type": "stream",
     "text": [
      "              precision    recall  f1-score   support\n",
      "\n",
      "           0       0.66      0.65      0.66       399\n",
      "           1       0.45      0.35      0.40       259\n",
      "           2       0.74      0.90      0.81       491\n",
      "           3       0.60      0.32      0.42        84\n",
      "\n",
      "    accuracy                           0.66      1233\n",
      "   macro avg       0.61      0.55      0.57      1233\n",
      "weighted avg       0.64      0.66      0.65      1233\n",
      "\n"
     ]
    }
   ],
   "source": [
    "print(classification_report(test_pred, test_true))"
   ]
  },
  {
   "attachments": {
    "image.png": {
     "image/png": "[encoded data removed]"
    }
   },
   "cell_type": "markdown",
   "metadata": {},
   "source": [
    "![image.png](attachment:image.png)"
   ]
  },
  {
   "cell_type": "markdown",
   "metadata": {},
   "source": [
    "# Result Discussion"
   ]
  },
  {
   "cell_type": "markdown",
   "metadata": {},
   "source": [
    "We have built a basic model for the classification of health claims. The architecture followed was the same as from the research paper regarding the current dataset. \n",
    "\n",
    "From the result we can observe that the macro F1 score doesn't really equate to the results provided in the Paper. With the same model and a somewhat similar architecture, we can see:\n",
    "\n",
    "1. Paper Macro F1: 70\n",
    "2. Our Macro F1: 57\n",
    "\n",
    "\n",
    "This could have a few reasons: \n",
    "- The linear layer could be underwhelmed and seems to be overfitting on the training data over multiple epochs. It could have more dropouts to prevent that.  \n",
    "\n",
    "\n"
   ]
  },
  {
   "cell_type": "markdown",
   "metadata": {},
   "source": [
    "# Future work to improve performance. "
   ]
  },
  {
   "cell_type": "markdown",
   "metadata": {},
   "source": [
    "For future improvements, there could be multiple other tricks that could be implied to make it perform better. \n",
    "1. Create a siamese architecture / Dual SciBert to see if that performs better when the tokens fit in perfectly. \n",
    "2. Create a more compled DNN for the model to perform better with the train/unseen data. \n",
    "3. Train via k-fold for it to scale up better. \n",
    "4. Enhance the dataset with other fact-checking health datasets such as pubmed. \n",
    "5. Perform hyperparameter tuning to get the best params for training. \n",
    "6. Add more parameters for the optimizers. \n"
   ]
  }
 ],
 "metadata": {
  "interpreter": {
   "hash": "e7370f93d1d0cde622a1f8e1c04877d8463912d04d973331ad4851f04de6915a"
  },
  "kernelspec": {
   "display_name": "Python 3 (ipykernel)",
   "language": "python",
   "name": "python3"
  },
  "language_info": {
   "codemirror_mode": {
    "name": "ipython",
    "version": 3
   },
   "file_extension": ".py",
   "mimetype": "text/x-python",
   "name": "python",
   "nbconvert_exporter": "python",
   "pygments_lexer": "ipython3",
   "version": "3.8.8"
  }
 },
 "nbformat": 4,
 "nbformat_minor": 4
}
